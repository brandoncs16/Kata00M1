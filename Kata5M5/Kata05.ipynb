{
 "cells": [
  {
   "cell_type": "markdown",
   "metadata": {},
   "source": [
    "Lista de planetas \n"
   ]
  },
  {
   "cell_type": "code",
   "execution_count": 10,
   "metadata": {},
   "outputs": [
    {
     "name": "stdout",
     "output_type": "stream",
     "text": [
      "['Mercury', 'Venus', 'Earth', 'Mars', 'Jupiter', 'Saturn', 'Uranus', 'Neptune', 'Pluto']\n",
      "Pluto Es el ultimo planeta\n"
     ]
    }
   ],
   "source": [
    "planets = ['Mercury', 'Venus', 'Earth', 'Mars', 'Jupiter', 'Saturn', 'Uranus', 'Neptune']\n",
    "planets.append('Pluto')\n",
    "print(planets)\n",
    "print(planets[-1], 'Es el ultimo planeta')\n"
   ]
  },
  {
   "cell_type": "code",
   "execution_count": 18,
   "metadata": {},
   "outputs": [
    {
     "name": "stdout",
     "output_type": "stream",
     "text": [
      "Este es el planeta mas cercano a Uranus\n",
      "['Mercury', 'Venus', 'Earth', 'Mars', 'Jupiter', 'Saturn']\n",
      "Here are the planets further than Uranus\n",
      "['Neptune']\n"
     ]
    }
   ],
   "source": [
    "planets = ['Mercury', 'Venus', 'Earth', 'Mars', 'Jupiter', 'Saturn', 'Uranus', 'Neptune', 'Pluton']\n",
    "planeta_D = input('Ingresa un nombre de un planeta para buscarlo (Primer letra en mayuscula)')\n",
    "\n",
    "Planeta_f = planets.index(planeta_D)\n",
    "\n",
    "print('Este es el planeta mas cercano a ' + planeta_D)\n",
    "print(planets[0:Planeta_f])\n",
    "\n",
    "\n",
    "\n",
    "\n",
    "print('Here are the planets further than ' + planeta_D)\n",
    "print(planets[Planeta_f + 1:])\n"
   ]
  }
 ],
 "metadata": {
  "interpreter": {
   "hash": "dbfc4f5f88e58bcd6375435b05fb2ff9df8fde41acc570a26f2d2a82211f93b0"
  },
  "kernelspec": {
   "display_name": "Python 3.9.10 64-bit (windows store)",
   "language": "python",
   "name": "python3"
  },
  "language_info": {
   "codemirror_mode": {
    "name": "ipython",
    "version": 3
   },
   "file_extension": ".py",
   "mimetype": "text/x-python",
   "name": "python",
   "nbconvert_exporter": "python",
   "pygments_lexer": "ipython3",
   "version": "3.9.10"
  },
  "orig_nbformat": 4
 },
 "nbformat": 4,
 "nbformat_minor": 2
}
