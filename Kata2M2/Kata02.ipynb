{
 "cells": [
  {
   "cell_type": "markdown",
   "metadata": {},
   "source": [
    "Ejercicio Asteroide"
   ]
  },
  {
   "cell_type": "code",
   "execution_count": 3,
   "metadata": {},
   "outputs": [
    {
     "name": "stdout",
     "output_type": "stream",
     "text": [
      "Peligro un asteroide se acerca a una velocidad muy rapida\n"
     ]
    }
   ],
   "source": [
    "asteroide = 30 \n",
    "if asteroide >= 25:\n",
    " print('Peligro un asteroide se acerca a una velocidad muy rapida')\n",
    "else:\n",
    " print('todo bien! no hay peligro de asteroide')"
   ]
  },
  {
   "cell_type": "code",
   "execution_count": 8,
   "metadata": {},
   "outputs": [
    {
     "name": "stdout",
     "output_type": "stream",
     "text": [
      "Hay una luz en el cielo!!\n"
     ]
    }
   ],
   "source": [
    "asteroide = 20   \n",
    "if asteroide > 20:\n",
    " print('Hay una luz en el cielo!!')\n",
    "elif asteroide == 20:\n",
    " print('Hay una luz en el cielo!!')\n",
    "else:\n",
    " print('No hay nada en el cielo')"
   ]
  }
 ],
 "metadata": {
  "interpreter": {
   "hash": "751698ec237da9ec8f3e8b57f8fe34715419c09858d2fb4c02ab04fd1560b3c9"
  },
  "kernelspec": {
   "display_name": "Python 3.10.2 64-bit",
   "language": "python",
   "name": "python3"
  },
  "language_info": {
   "codemirror_mode": {
    "name": "ipython",
    "version": 3
   },
   "file_extension": ".py",
   "mimetype": "text/x-python",
   "name": "python",
   "nbconvert_exporter": "python",
   "pygments_lexer": "ipython3",
   "version": "3.10.2"
  },
  "orig_nbformat": 4
 },
 "nbformat": 4,
 "nbformat_minor": 2
}
